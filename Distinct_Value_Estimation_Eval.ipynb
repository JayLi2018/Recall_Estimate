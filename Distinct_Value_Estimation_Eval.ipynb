{
 "cells": [
  {
   "cell_type": "code",
   "execution_count": 188,
   "metadata": {},
   "outputs": [],
   "source": [
    "import pydistinct\n",
    "import psycopg2\n",
    "import pandas as pd"
   ]
  },
  {
   "cell_type": "code",
   "execution_count": 189,
   "metadata": {},
   "outputs": [],
   "source": [
    "conn = psycopg2.connect(f\"dbname=nba_study user=postgres port=5433\")\n",
    "conn.autocommit = True\n",
    "cur = conn.cursor()"
   ]
  },
  {
   "cell_type": "code",
   "execution_count": 190,
   "metadata": {},
   "outputs": [],
   "source": [
    "# sample_mv_01 = \"CREATE MATERIALIZED VIEW sample_01 AS SELECT * FROM jg_196 ORDER BY RANDOM() limit 260\";\n",
    "# sample_mv_03 = \"CREATE MATERIALIZED VIEW sample_03 AS SELECT * FROM jg_196 ORDER BY RANDOM() limit 520\";\n",
    "# sample_mv_05 = \"CREATE MATERIALIZED VIEW sample_05 AS SELECT * FROM jg_196 ORDER BY RANDOM() limit 1300\";\n",
    "# sample_mv_07 = \"CREATE MATERIALIZED VIEW sample_07 AS SELECT * FROM jg_196 ORDER BY RANDOM() limit 1800\";"
   ]
  },
  {
   "cell_type": "code",
   "execution_count": 191,
   "metadata": {},
   "outputs": [],
   "source": [
    "# cur.execute(sample_mv_01)\n",
    "# cur.execute(sample_mv_03)\n",
    "# cur.execute(sample_mv_05)\n",
    "# cur.execute(sample_mv_07)"
   ]
  },
  {
   "cell_type": "code",
   "execution_count": 192,
   "metadata": {},
   "outputs": [],
   "source": [
    "sample_q_01 = \"SELECT * FROM sample_01\";\n",
    "sample_q_03 = \"SELECT * FROM sample_03\";\n",
    "sample_q_05 = \"SELECT * FROM sample_05\";\n",
    "sample_q_07 = \"SELECT * FROM sample_07\";\n"
   ]
  },
  {
   "cell_type": "code",
   "execution_count": 193,
   "metadata": {},
   "outputs": [],
   "source": [
    "s_df_01 = pd.read_sql(sample_q_01, conn)\n",
    "s_df_03 = pd.read_sql(sample_q_03, conn)\n",
    "s_df_05 = pd.read_sql(sample_q_05, conn)\n"
   ]
  },
  {
   "cell_type": "code",
   "execution_count": 194,
   "metadata": {
    "scrolled": false
   },
   "outputs": [
    {
     "data": {
      "text/html": [
       "<div>\n",
       "<style scoped>\n",
       "    .dataframe tbody tr th:only-of-type {\n",
       "        vertical-align: middle;\n",
       "    }\n",
       "\n",
       "    .dataframe tbody tr th {\n",
       "        vertical-align: top;\n",
       "    }\n",
       "\n",
       "    .dataframe thead th {\n",
       "        text-align: right;\n",
       "    }\n",
       "</style>\n",
       "<table border=\"1\" class=\"dataframe\">\n",
       "  <thead>\n",
       "    <tr style=\"text-align: right;\">\n",
       "      <th></th>\n",
       "      <th>win</th>\n",
       "      <th>season_name</th>\n",
       "      <th>a_1</th>\n",
       "      <th>a_2</th>\n",
       "      <th>a_3</th>\n",
       "      <th>a_4</th>\n",
       "      <th>a_5</th>\n",
       "      <th>a_6</th>\n",
       "      <th>a_7</th>\n",
       "      <th>a_8</th>\n",
       "      <th>...</th>\n",
       "      <th>a_24</th>\n",
       "      <th>a_25</th>\n",
       "      <th>a_26</th>\n",
       "      <th>a_27</th>\n",
       "      <th>a_28</th>\n",
       "      <th>a_29</th>\n",
       "      <th>a_30</th>\n",
       "      <th>a_31</th>\n",
       "      <th>a_32</th>\n",
       "      <th>a_33</th>\n",
       "    </tr>\n",
       "  </thead>\n",
       "  <tbody>\n",
       "    <tr>\n",
       "      <th>0</th>\n",
       "      <td>73</td>\n",
       "      <td>2015-16</td>\n",
       "      <td>2</td>\n",
       "      <td>GSW</td>\n",
       "      <td>2016-03-12</td>\n",
       "      <td>123</td>\n",
       "      <td>116</td>\n",
       "      <td>102</td>\n",
       "      <td>101</td>\n",
       "      <td>2</td>\n",
       "      <td>...</td>\n",
       "      <td>0.33</td>\n",
       "      <td>0.54</td>\n",
       "      <td>21.88</td>\n",
       "      <td>82</td>\n",
       "      <td>0</td>\n",
       "      <td>3</td>\n",
       "      <td>3</td>\n",
       "      <td>0</td>\n",
       "      <td>Mirza Teletovic</td>\n",
       "      <td>82</td>\n",
       "    </tr>\n",
       "    <tr>\n",
       "      <th>1</th>\n",
       "      <td>73</td>\n",
       "      <td>2015-16</td>\n",
       "      <td>2</td>\n",
       "      <td>GSW</td>\n",
       "      <td>2016-01-08</td>\n",
       "      <td>108</td>\n",
       "      <td>128</td>\n",
       "      <td>106</td>\n",
       "      <td>106</td>\n",
       "      <td>16</td>\n",
       "      <td>...</td>\n",
       "      <td>0.33</td>\n",
       "      <td>0.32</td>\n",
       "      <td>18.97</td>\n",
       "      <td>315</td>\n",
       "      <td>3</td>\n",
       "      <td>0</td>\n",
       "      <td>0</td>\n",
       "      <td>0</td>\n",
       "      <td>Harrison Barnes</td>\n",
       "      <td>315</td>\n",
       "    </tr>\n",
       "    <tr>\n",
       "      <th>2</th>\n",
       "      <td>73</td>\n",
       "      <td>2015-16</td>\n",
       "      <td>2</td>\n",
       "      <td>GSW</td>\n",
       "      <td>2015-12-05</td>\n",
       "      <td>109</td>\n",
       "      <td>112</td>\n",
       "      <td>92</td>\n",
       "      <td>92</td>\n",
       "      <td>8</td>\n",
       "      <td>...</td>\n",
       "      <td>0.00</td>\n",
       "      <td>0.40</td>\n",
       "      <td>7.35</td>\n",
       "      <td>342</td>\n",
       "      <td>1</td>\n",
       "      <td>10</td>\n",
       "      <td>6</td>\n",
       "      <td>4</td>\n",
       "      <td>Patrick Patterson</td>\n",
       "      <td>342</td>\n",
       "    </tr>\n",
       "    <tr>\n",
       "      <th>3</th>\n",
       "      <td>73</td>\n",
       "      <td>2015-16</td>\n",
       "      <td>2</td>\n",
       "      <td>GSW</td>\n",
       "      <td>2015-11-07</td>\n",
       "      <td>94</td>\n",
       "      <td>103</td>\n",
       "      <td>99</td>\n",
       "      <td>100</td>\n",
       "      <td>11</td>\n",
       "      <td>...</td>\n",
       "      <td>0.00</td>\n",
       "      <td>0.50</td>\n",
       "      <td>15.63</td>\n",
       "      <td>467</td>\n",
       "      <td>7</td>\n",
       "      <td>9</td>\n",
       "      <td>5</td>\n",
       "      <td>4</td>\n",
       "      <td>Draymond Green</td>\n",
       "      <td>467</td>\n",
       "    </tr>\n",
       "    <tr>\n",
       "      <th>4</th>\n",
       "      <td>47</td>\n",
       "      <td>2012-13</td>\n",
       "      <td>2</td>\n",
       "      <td>GSW</td>\n",
       "      <td>2012-10-31</td>\n",
       "      <td>85</td>\n",
       "      <td>87</td>\n",
       "      <td>92</td>\n",
       "      <td>93</td>\n",
       "      <td>13</td>\n",
       "      <td>...</td>\n",
       "      <td>0.50</td>\n",
       "      <td>0.36</td>\n",
       "      <td>26.53</td>\n",
       "      <td>76</td>\n",
       "      <td>1</td>\n",
       "      <td>4</td>\n",
       "      <td>3</td>\n",
       "      <td>1</td>\n",
       "      <td>Michael Beasley</td>\n",
       "      <td>76</td>\n",
       "    </tr>\n",
       "  </tbody>\n",
       "</table>\n",
       "<p>5 rows × 37 columns</p>\n",
       "</div>"
      ],
      "text/plain": [
       "   win season_name  a_1  a_2         a_3  a_4  a_5  a_6  a_7  a_8  ...  a_24  \\\n",
       "0   73     2015-16    2  GSW  2016-03-12  123  116  102  101    2  ...  0.33   \n",
       "1   73     2015-16    2  GSW  2016-01-08  108  128  106  106   16  ...  0.33   \n",
       "2   73     2015-16    2  GSW  2015-12-05  109  112   92   92    8  ...  0.00   \n",
       "3   73     2015-16    2  GSW  2015-11-07   94  103   99  100   11  ...  0.00   \n",
       "4   47     2012-13    2  GSW  2012-10-31   85   87   92   93   13  ...  0.50   \n",
       "\n",
       "   a_25   a_26  a_27 a_28 a_29  a_30 a_31               a_32 a_33  \n",
       "0  0.54  21.88    82    0    3     3    0    Mirza Teletovic   82  \n",
       "1  0.32  18.97   315    3    0     0    0    Harrison Barnes  315  \n",
       "2  0.40   7.35   342    1   10     6    4  Patrick Patterson  342  \n",
       "3  0.50  15.63   467    7    9     5    4     Draymond Green  467  \n",
       "4  0.36  26.53    76    1    4     3    1    Michael Beasley   76  \n",
       "\n",
       "[5 rows x 37 columns]"
      ]
     },
     "execution_count": 194,
     "metadata": {},
     "output_type": "execute_result"
    }
   ],
   "source": [
    "s_df_01.head()"
   ]
  },
  {
   "cell_type": "code",
   "execution_count": 195,
   "metadata": {},
   "outputs": [
    {
     "name": "stdout",
     "output_type": "stream",
     "text": [
      "true recall : 0.9726027397260274\n"
     ]
    }
   ],
   "source": [
    "d_pattern = \"a_32='Stephen Curry'\"\n",
    "\n",
    "q_recall_full = f\"\"\"\n",
    "WITH tp AS(\n",
    "SELECT COUNT(DISTINCT pnumber) as tp\n",
    "FROM jg_196 \n",
    "WHERE {d_pattern} and is_user = 'yes'\n",
    ")\n",
    "SELECT t.tp::numeric/COUNT(DISTINCT pnumber) as recall \n",
    "FROM jg_196, tp t\n",
    "WHERE is_user = 'yes'\n",
    "GROUP BY t.tp\n",
    "\"\"\"\n",
    "cur.execute(q_recall_full)\n",
    "true_recall = float(cur.fetchone()[0])\n",
    "print(f\"true recall : {true_recall}\")"
   ]
  },
  {
   "cell_type": "code",
   "execution_count": 196,
   "metadata": {},
   "outputs": [
    {
     "name": "stdout",
     "output_type": "stream",
     "text": [
      "sample 0.1 recall result : 0.109375\n"
     ]
    }
   ],
   "source": [
    "\n",
    "q_recall_01 = f\"\"\"\n",
    "WITH tp AS(\n",
    "SELECT COUNT(DISTINCT pnumber) as tp\n",
    "FROM sample_01 \n",
    "WHERE {d_pattern} and is_user = 'yes'\n",
    ")\n",
    "SELECT t.tp::numeric/COUNT(DISTINCT pnumber) as recall \n",
    "FROM sample_01, tp t\n",
    "WHERE is_user = 'yes'\n",
    "GROUP BY t.tp\n",
    "\"\"\"\n",
    "cur.execute(q_recall_01)\n",
    "sampe_recall_result_01 = float(cur.fetchone()[0])\n",
    "print(f\"sample 0.1 recall result : {sampe_recall_result_01}\")"
   ]
  },
  {
   "cell_type": "code",
   "execution_count": 197,
   "metadata": {},
   "outputs": [
    {
     "name": "stdout",
     "output_type": "stream",
     "text": [
      "sample 0.3 recall result : 0.2112676056338028\n"
     ]
    }
   ],
   "source": [
    "q_recall_03 = f\"\"\"\n",
    "WITH tp AS(\n",
    "SELECT COUNT(DISTINCT pnumber) as tp\n",
    "FROM sample_03 \n",
    "WHERE {d_pattern} and is_user = 'yes'\n",
    ")\n",
    "SELECT t.tp::numeric/COUNT(DISTINCT pnumber) as recall \n",
    "FROM sample_03, tp t\n",
    "WHERE is_user = 'yes'\n",
    "GROUP BY t.tp\n",
    "\"\"\"\n",
    "cur.execute(q_recall_03)\n",
    "sampe_recall_result_03 = float(cur.fetchone()[0])\n",
    "print(f\"sample 0.3 recall result : {sampe_recall_result_03}\")"
   ]
  },
  {
   "cell_type": "code",
   "execution_count": 198,
   "metadata": {},
   "outputs": [
    {
     "name": "stdout",
     "output_type": "stream",
     "text": [
      "sample 0.5 recall result : 0.4794520547945205\n"
     ]
    }
   ],
   "source": [
    "q_recall_05 = f\"\"\"\n",
    "WITH tp AS(\n",
    "SELECT COUNT(DISTINCT pnumber) as tp\n",
    "FROM sample_05 \n",
    "WHERE {d_pattern} and is_user = 'yes'\n",
    ")\n",
    "SELECT t.tp::numeric/COUNT(DISTINCT pnumber) as recall \n",
    "FROM sample_05, tp t\n",
    "WHERE is_user = 'yes'\n",
    "GROUP BY t.tp\n",
    "\"\"\"\n",
    "cur.execute(q_recall_05)\n",
    "sampe_recall_result_05 = float(cur.fetchone()[0])\n",
    "print(f\"sample 0.5 recall result : {sampe_recall_result_05}\")"
   ]
  },
  {
   "cell_type": "code",
   "execution_count": 199,
   "metadata": {},
   "outputs": [
    {
     "name": "stdout",
     "output_type": "stream",
     "text": [
      "sample 0.7 recall result : 0.6164383561643836\n"
     ]
    }
   ],
   "source": [
    "q_recall_07 = f\"\"\"\n",
    "WITH tp AS(\n",
    "SELECT COUNT(DISTINCT pnumber) as tp\n",
    "FROM sample_07 \n",
    "WHERE {d_pattern} and is_user = 'yes'\n",
    ")\n",
    "SELECT t.tp::numeric/COUNT(DISTINCT pnumber) as recall \n",
    "FROM sample_07, tp t\n",
    "WHERE is_user = 'yes'\n",
    "GROUP BY t.tp\n",
    "\"\"\"\n",
    "cur.execute(q_recall_07)\n",
    "sampe_recall_result_07 = float(cur.fetchone()[0])\n",
    "print(f\"sample 0.7 recall result : {sampe_recall_result_07}\")"
   ]
  },
  {
   "cell_type": "code",
   "execution_count": 200,
   "metadata": {},
   "outputs": [
    {
     "name": "stdout",
     "output_type": "stream",
     "text": [
      "sample 10% known pop: horvitz_thompson = 118.49462944511886\n",
      "sample 10% known pop: smoothed_jackknife = 134.00484267144986\n",
      "sample 10% unknown pop: horvitz_thompson = 120.3003577601435\n",
      "sample 10% unknown pop: smoothed_jackknife = 138.86812246862766\n"
     ]
    }
   ],
   "source": [
    "\n",
    "a_32_q = \"SELECT a_32 from sample_01 where is_user='yes'\"\n",
    "\n",
    "x = pd.read_sql(a_32_q, conn)\n",
    "\n",
    "r = x['a_32'].value_counts().to_dict()\n",
    "\n",
    "\n",
    "horvitz_thompson = pydistinct.stats_estimators.horvitz_thompson_estimator(attributes=r, n_pop=2600)\n",
    "smoothed_jackknife = pydistinct.stats_estimators.smoothed_jackknife_estimator(attributes=r, n_pop=2600)\n",
    "\n",
    "u_horvitz_thompson = pydistinct.stats_estimators.horvitz_thompson_estimator(attributes=r)\n",
    "u_smoothed_jackknife = pydistinct.stats_estimators.smoothed_jackknife_estimator(attributes=r)\n",
    "\n",
    "print(f\"sample 10% known pop: horvitz_thompson = {horvitz_thompson}\")\n",
    "print(f\"sample 10% known pop: smoothed_jackknife = {smoothed_jackknife}\")\n",
    "\n",
    "print(f\"sample 10% unknown pop: horvitz_thompson = {u_horvitz_thompson}\")\n",
    "print(f\"sample 10% unknown pop: smoothed_jackknife = {u_smoothed_jackknife}\")"
   ]
  },
  {
   "cell_type": "code",
   "execution_count": 201,
   "metadata": {},
   "outputs": [
    {
     "name": "stdout",
     "output_type": "stream",
     "text": [
      "sample 30% known pop: horvitz_thompson = 199.70539615580518\n",
      "sample 30% known pop: smoothed_jackknife = 216.06410150310356\n",
      "sample 30% unknown pop: horvitz_thompson = 211.0812455763181\n",
      "sample 30% unknown pop: smoothed_jackknife = 226.24351034693626\n"
     ]
    }
   ],
   "source": [
    "a_32_q = \"SELECT a_32 from sample_03 where is_user='yes'\"\n",
    "\n",
    "x = pd.read_sql(a_32_q, conn)\n",
    "\n",
    "r = x['a_32'].value_counts().to_dict()\n",
    "\n",
    "\n",
    "\n",
    "horvitz_thompson = pydistinct.stats_estimators.horvitz_thompson_estimator(attributes=r, n_pop=2600)\n",
    "smoothed_jackknife = pydistinct.stats_estimators.smoothed_jackknife_estimator(attributes=r, n_pop=2600)\n",
    "\n",
    "\n",
    "u_horvitz_thompson = pydistinct.stats_estimators.horvitz_thompson_estimator(attributes=r)\n",
    "u_smoothed_jackknife = pydistinct.stats_estimators.smoothed_jackknife_estimator(attributes=r)\n",
    "\n",
    "print(f\"sample 30% known pop: horvitz_thompson = {horvitz_thompson}\")\n",
    "print(f\"sample 30% known pop: smoothed_jackknife = {smoothed_jackknife}\")\n",
    "\n",
    "print(f\"sample 30% unknown pop: horvitz_thompson = {u_horvitz_thompson}\")\n",
    "print(f\"sample 30% unknown pop: smoothed_jackknife = {u_smoothed_jackknife}\")\n",
    "\n"
   ]
  },
  {
   "cell_type": "code",
   "execution_count": 202,
   "metadata": {},
   "outputs": [
    {
     "name": "stdout",
     "output_type": "stream",
     "text": [
      "sample 50% known pop: horvitz_thompson = 352.6083861419974\n",
      "sample 50% known pop: smoothed_jackknife = 377.14922758403975\n",
      "sample 50% unknown pop: horvitz_thompson = 412.0673354084649\n",
      "sample 50% unknown pop: smoothed_jackknife = 376.4127623377631\n"
     ]
    }
   ],
   "source": [
    "a_32_q = \"SELECT a_32 from sample_05 where is_user = 'yes'\"\n",
    "\n",
    "x = pd.read_sql(a_32_q, conn)\n",
    "\n",
    "r = x['a_32'].value_counts().to_dict()\n",
    "\n",
    "\n",
    "horvitz_thompson_05 = pydistinct.stats_estimators.horvitz_thompson_estimator(attributes=r, n_pop=2600)\n",
    "smoothed_jackknife_05 = pydistinct.stats_estimators.smoothed_jackknife_estimator(attributes=r, n_pop=2600)\n",
    "\n",
    "\n",
    "u_horvitz_thompson_05 = pydistinct.stats_estimators.horvitz_thompson_estimator(attributes=r)\n",
    "u_smoothed_jackknife_05 = pydistinct.stats_estimators.smoothed_jackknife_estimator(attributes=r)\n",
    "\n",
    "print(f\"sample 50% known pop: horvitz_thompson = {horvitz_thompson_05}\")\n",
    "print(f\"sample 50% known pop: smoothed_jackknife = {smoothed_jackknife_05}\")\n",
    "\n",
    "print(f\"sample 50% unknown pop: horvitz_thompson = {u_horvitz_thompson_05}\")\n",
    "print(f\"sample 50% unknown pop: smoothed_jackknife = {u_smoothed_jackknife_05}\")\n"
   ]
  },
  {
   "cell_type": "code",
   "execution_count": 203,
   "metadata": {},
   "outputs": [
    {
     "name": "stdout",
     "output_type": "stream",
     "text": [
      "sample 70% known pop: horvitz_thompson = 391.51404275776633\n",
      "sample 70% known pop: smoothed_jackknife = 414.41588623760254\n",
      "sample 70% unknown pop: horvitz_thompson = 463.09748808068264\n",
      "sample 70% unknown pop: smoothed_jackknife = 405.89777996525567\n"
     ]
    }
   ],
   "source": [
    "a_32_q = \"SELECT a_32 from sample_07 where is_user = 'yes'\"\n",
    "\n",
    "x = pd.read_sql(a_32_q, conn)\n",
    "\n",
    "r = x['a_32'].value_counts().to_dict()\n",
    "\n",
    "\n",
    "horvitz_thompson_07 = pydistinct.stats_estimators.horvitz_thompson_estimator(attributes=r, n_pop=2600)\n",
    "smoothed_jackknife_07 = pydistinct.stats_estimators.smoothed_jackknife_estimator(attributes=r, n_pop=2600)\n",
    "\n",
    "\n",
    "u_horvitz_thompson_07 = pydistinct.stats_estimators.horvitz_thompson_estimator(attributes=r)\n",
    "u_smoothed_jackknife_07 = pydistinct.stats_estimators.smoothed_jackknife_estimator(attributes=r)\n",
    "\n",
    "print(f\"sample 70% known pop: horvitz_thompson = {horvitz_thompson_07}\")\n",
    "print(f\"sample 70% known pop: smoothed_jackknife = {smoothed_jackknife_07}\")\n",
    "\n",
    "print(f\"sample 70% unknown pop: horvitz_thompson = {u_horvitz_thompson_07}\")\n",
    "print(f\"sample 70% unknown pop: smoothed_jackknife = {u_smoothed_jackknife_07}\")"
   ]
  },
  {
   "cell_type": "code",
   "execution_count": 204,
   "metadata": {},
   "outputs": [
    {
     "name": "stdout",
     "output_type": "stream",
     "text": [
      "true distinct a_32: 390.0\n",
      "yes cnt: 1612.0\n"
     ]
    }
   ],
   "source": [
    "a_32_distinct_q = \"SELECT count(distinct a_32) from jg_196 where is_user = 'yes'\"\n",
    "yes_cnt_q = \"SELECT count(*) from jg_196 where is_user= 'yes'\"\n",
    "\n",
    "cur.execute(a_32_distinct_q)\n",
    "true_distinct = float(cur.fetchone()[0])\n",
    "\n",
    "cur.execute(yes_cnt_q)\n",
    "yes_cnt = float(cur.fetchone()[0])\n",
    "\n",
    "print(f\"true distinct a_32: {true_distinct}\")\n",
    "\n",
    "print(f\"yes cnt: {yes_cnt}\")"
   ]
  }
 ],
 "metadata": {
  "kernelspec": {
   "display_name": "Python 3",
   "language": "python",
   "name": "python3"
  },
  "language_info": {
   "codemirror_mode": {
    "name": "ipython",
    "version": 3
   },
   "file_extension": ".py",
   "mimetype": "text/x-python",
   "name": "python",
   "nbconvert_exporter": "python",
   "pygments_lexer": "ipython3",
   "version": "3.8.5"
  }
 },
 "nbformat": 4,
 "nbformat_minor": 4
}
